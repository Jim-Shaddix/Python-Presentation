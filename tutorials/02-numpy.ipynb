{
 "cells": [
  {
   "cell_type": "markdown",
   "metadata": {
    "pycharm": {}
   },
   "source": [
    "# Numpy\n",
    "\n",
    "Numpy (Numerical Python) is Python's library for numerical data, and provides a wealth of functionality for working with array data.\n",
    "\n",
    "Numpy features include:\n",
    "  * A fast and efficient multidimensional array object ndarray\n",
    "  * Functions for performing computations on arrays\n",
    "  * Tools for reading and writing array-based datasets to disk\n",
    "  * Linear algebra operations, and random number generation\n",
    "\n",
    "Our first step is to **import** the package (note the \"import as\" shortcut):"
   ]
  },
  {
   "cell_type": "code",
   "execution_count": 1,
   "metadata": {
    "ExecuteTime": {
     "end_time": "2019-04-02T00:21:46.232373Z",
     "start_time": "2019-04-02T00:21:45.882305Z"
    },
    "pycharm": {
     "is_executing": false
    }
   },
   "outputs": [],
   "source": [
    "import numpy as np"
   ]
  },
  {
   "cell_type": "markdown",
   "metadata": {
    "pycharm": {}
   },
   "source": [
    "**Python note:**  Instead of the above import, we could have done ``from numpy import *``, which would have made every statement shorter by not having to write ``np.`` before each Numpy command.  That is not a good idea, as the Numpy namespace conflicts with built in Python functions like ``min`` or ``max``."
   ]
  },
  {
   "cell_type": "markdown",
   "metadata": {
    "pycharm": {}
   },
   "source": [
    "Arrays are the standard data containers in Numpy, and can have any number of dimensions.\n",
    "\n",
    "Let's create a one dimensional array:"
   ]
  },
  {
   "cell_type": "code",
   "execution_count": 2,
   "metadata": {
    "ExecuteTime": {
     "end_time": "2019-04-02T00:21:46.250968Z",
     "start_time": "2019-04-02T00:21:46.235713Z"
    },
    "pycharm": {}
   },
   "outputs": [
    {
     "data": {
      "text/plain": [
       "array([1, 2, 3])"
      ]
     },
     "execution_count": 2,
     "metadata": {},
     "output_type": "execute_result"
    }
   ],
   "source": [
    "my_array = np.array([1, 2, 3])\n",
    "my_array"
   ]
  },
  {
   "cell_type": "markdown",
   "metadata": {
    "pycharm": {}
   },
   "source": [
    "Now how is that different from a Python list, which we could have created as:"
   ]
  },
  {
   "cell_type": "code",
   "execution_count": 3,
   "metadata": {
    "ExecuteTime": {
     "end_time": "2019-04-02T00:21:46.257102Z",
     "start_time": "2019-04-02T00:21:46.253189Z"
    },
    "pycharm": {}
   },
   "outputs": [],
   "source": [
    "my_list = [1, 2, 3]"
   ]
  },
  {
   "cell_type": "markdown",
   "metadata": {
    "pycharm": {}
   },
   "source": [
    "Numpy arrays are more efficient in terms of storage (why?) and allow faster manipulations of numeric data.\n",
    "Furthermore, using Numpy's C API, libraries written in C or Fortran, can operate on the data stored in a NumPy array without needing to copy data. \n",
    "\n",
    "Let's demonstrate the speed advantage of Numpy arrays:"
   ]
  },
  {
   "cell_type": "code",
   "execution_count": 4,
   "metadata": {
    "ExecuteTime": {
     "end_time": "2019-04-02T00:21:46.375776Z",
     "start_time": "2019-04-02T00:21:46.260891Z"
    },
    "pycharm": {}
   },
   "outputs": [],
   "source": [
    "import numpy as np\n",
    "my_array = np.arange(1000000)\n",
    "my_list = list(range(1000000))\n",
    "# Note: why not simply do my_list = range(10000000)?"
   ]
  },
  {
   "cell_type": "code",
   "execution_count": 5,
   "metadata": {
    "ExecuteTime": {
     "end_time": "2019-04-02T00:21:49.467014Z",
     "start_time": "2019-04-02T00:21:46.383853Z"
    },
    "pycharm": {}
   },
   "outputs": [
    {
     "name": "stdout",
     "output_type": "stream",
     "text": [
      "1000 loops, best of 3: 1.33 ms per loop\n"
     ]
    }
   ],
   "source": [
    "%timeit my_array2 = my_array * 2"
   ]
  },
  {
   "cell_type": "code",
   "execution_count": 6,
   "metadata": {
    "ExecuteTime": {
     "end_time": "2019-04-02T00:21:58.303771Z",
     "start_time": "2019-04-02T00:21:49.470628Z"
    },
    "pycharm": {}
   },
   "outputs": [
    {
     "name": "stdout",
     "output_type": "stream",
     "text": [
      "10 loops, best of 3: 47.4 ms per loop\n"
     ]
    }
   ],
   "source": [
    "%timeit my_list2 = [x * 2 for x in my_list]"
   ]
  },
  {
   "cell_type": "markdown",
   "metadata": {
    "pycharm": {}
   },
   "source": [
    "This clearly demonstrates the power of using Numpy arrays over Python lists.\n",
    "\n",
    "**Note about timing Python code**\n",
    "``%time`` is another magic command that can be used to measure the execution time of code snippets.  ``%timeit`` results are generally more accurate which is a result of the fact that ``%timeit`` does some clever things under the hood to prevent system calls from interfering with the timing. For example, it prevents cleanup of unused Python objects (known as garbage collection) which might otherwise affect the timing. For this reason, ``%timeit`` results are usually noticeably faster than ``%time`` results (see [this article](https://jakevdp.github.io/PythonDataScienceHandbook/01.07-timing-and-profiling.html) for more information about profiling Python code)."
   ]
  },
  {
   "cell_type": "markdown",
   "metadata": {
    "pycharm": {}
   },
   "source": [
    "### Numpy ndarrays\n",
    "\n",
    "Numpy ndarrays enable you to perform mathematical operations on entire arrays in a single operation without requiring for loops.  This is called *vectorization*.\n",
    "\n",
    "For example:"
   ]
  },
  {
   "cell_type": "code",
   "execution_count": 7,
   "metadata": {
    "ExecuteTime": {
     "end_time": "2019-04-02T00:21:58.324010Z",
     "start_time": "2019-04-02T00:21:58.306712Z"
    },
    "pycharm": {}
   },
   "outputs": [
    {
     "data": {
      "text/plain": [
       "array([[1, 2, 3],\n",
       "       [4, 5, 6]])"
      ]
     },
     "execution_count": 7,
     "metadata": {},
     "output_type": "execute_result"
    }
   ],
   "source": [
    "data = np.array( [ [1,2,3], [4,5,6] ])\n",
    "data"
   ]
  },
  {
   "cell_type": "code",
   "execution_count": 8,
   "metadata": {
    "ExecuteTime": {
     "end_time": "2019-04-02T00:21:58.334158Z",
     "start_time": "2019-04-02T00:21:58.326363Z"
    },
    "pycharm": {}
   },
   "outputs": [
    {
     "data": {
      "text/plain": [
       "array([[ 2,  4,  6],\n",
       "       [ 8, 10, 12]])"
      ]
     },
     "execution_count": 8,
     "metadata": {},
     "output_type": "execute_result"
    }
   ],
   "source": [
    "data * 10    # multiply array by a scalar\n",
    "data + data  # add arrays"
   ]
  },
  {
   "cell_type": "markdown",
   "metadata": {
    "pycharm": {}
   },
   "source": [
    "You can also perform Boolean operations on arrays:"
   ]
  },
  {
   "cell_type": "code",
   "execution_count": 9,
   "metadata": {
    "ExecuteTime": {
     "end_time": "2019-04-02T00:21:58.345622Z",
     "start_time": "2019-04-02T00:21:58.336402Z"
    },
    "pycharm": {}
   },
   "outputs": [
    {
     "data": {
      "text/plain": [
       "array([[False,  True, False],\n",
       "       [ True, False,  True]])"
      ]
     },
     "execution_count": 9,
     "metadata": {},
     "output_type": "execute_result"
    }
   ],
   "source": [
    "a1 = np.array([[1., 2., 3.], [4., 5., 6.]])\n",
    "a2 = np.array([[0., 4., 1.], [7., 2., 12.]])\n",
    "a2 > a1"
   ]
  },
  {
   "cell_type": "markdown",
   "metadata": {
    "pycharm": {}
   },
   "source": [
    "Every array has a shape, which is a tuple indicating the size of each dimension, and a dtype, an object describing the data type of the array:\n"
   ]
  },
  {
   "cell_type": "code",
   "execution_count": 10,
   "metadata": {
    "ExecuteTime": {
     "end_time": "2019-04-02T00:21:58.354196Z",
     "start_time": "2019-04-02T00:21:58.347966Z"
    },
    "pycharm": {}
   },
   "outputs": [
    {
     "data": {
      "text/plain": [
       "dtype('int64')"
      ]
     },
     "execution_count": 10,
     "metadata": {},
     "output_type": "execute_result"
    }
   ],
   "source": [
    "data.shape\n",
    "data.dtype"
   ]
  },
  {
   "cell_type": "markdown",
   "metadata": {
    "pycharm": {}
   },
   "source": [
    "While it's clear what Numpy does when asked to add a scalar to an array or add two arrays of the same size, check what happens when adding two arrays of unequal size, e.g. add a one dimensional array to a two dimensional array"
   ]
  },
  {
   "cell_type": "code",
   "execution_count": 11,
   "metadata": {
    "ExecuteTime": {
     "end_time": "2019-04-02T00:21:58.362880Z",
     "start_time": "2019-04-02T00:21:58.357640Z"
    },
    "pycharm": {}
   },
   "outputs": [],
   "source": [
    "# define two arrays, one with a shape (2,3), \n",
    "# and another which is one dimensional.\n",
    "# what will its size need to be for the operation to work?\n",
    "# what is Numpy doing in this case?"
   ]
  },
  {
   "cell_type": "code",
   "execution_count": 12,
   "metadata": {
    "ExecuteTime": {
     "end_time": "2019-04-02T00:41:01.887824Z",
     "start_time": "2019-04-02T00:41:01.881822Z"
    }
   },
   "outputs": [
    {
     "name": "stdout",
     "output_type": "stream",
     "text": [
      "A+B:\n",
      " [[4 4 4 4]\n",
      " [5 5 5 5]]\n",
      "A+C:\n",
      " [[5 5 5 5]\n",
      " [6 6 6 6]]\n"
     ]
    }
   ],
   "source": [
    "A = np.array([[1,1,1,1],[2,2,2,2]])\n",
    "B = np.array([3,3,3,3])\n",
    "C = np.array([4,4,4,4])\n",
    "print(\"A+B:\\n\",A+B)\n",
    "print(\"A+C:\\n\",A+C)"
   ]
  },
  {
   "cell_type": "code",
   "execution_count": 13,
   "metadata": {
    "ExecuteTime": {
     "end_time": "2019-04-02T00:37:44.976320Z",
     "start_time": "2019-04-02T00:37:44.970646Z"
    }
   },
   "outputs": [
    {
     "name": "stdout",
     "output_type": "stream",
     "text": [
      "A+B:\n",
      " [[4 4 4]\n",
      " [5 5 5]]\n",
      "A+C:\n",
      " [[5 5 5]\n",
      " [6 6 6]]\n"
     ]
    }
   ],
   "source": [
    "A = np.array([[1,1,1],[2,2,2]])\n",
    "B = np.array([3,3,3])\n",
    "C = np.array([4,4,4])\n",
    "print(\"A+B:\\n\",A+B)\n",
    "print(\"A+C:\\n\",A+C)"
   ]
  },
  {
   "cell_type": "markdown",
   "metadata": {
    "ExecuteTime": {
     "end_time": "2019-04-02T00:29:36.402501Z",
     "start_time": "2019-04-02T00:29:36.385147Z"
    }
   },
   "source": [
    "<font color='red'>\n",
    "    \n",
    "* LET: $A \\epsilon R^{nxm}$\n",
    "    \n",
    "* LET: $B \\epsilon R^{1xk}$\n",
    "    \n",
    "If $(k=1)$: The element of B is added to all of the elements of A\n",
    "\n",
    "If $(k=m)$: The row B, is added to each row of A\n",
    "\n",
    "than the matrices can be broadcast togeather.\n",
    "\n",
    "GENERALLY: In order to know if broadcasting is going to work, you need to look at the dimensions of the two operands. Each of their dimensions need to be equal, or one of their dimensions can be a one. \n",
    "</font> "
   ]
  },
  {
   "cell_type": "markdown",
   "metadata": {
    "pycharm": {}
   },
   "source": [
    "Note that Numpy inferred the type from the data that we provided.  You can check what happens if there are floats in the input to the array constructor."
   ]
  },
  {
   "cell_type": "code",
   "execution_count": 14,
   "metadata": {
    "ExecuteTime": {
     "end_time": "2019-04-02T00:21:58.376913Z",
     "start_time": "2019-04-02T00:21:58.368743Z"
    },
    "pycharm": {}
   },
   "outputs": [
    {
     "data": {
      "text/plain": [
       "(array([[1, 2, 3, 4],\n",
       "        [5, 6, 7, 8]]), dtype('int64'))"
      ]
     },
     "execution_count": 14,
     "metadata": {},
     "output_type": "execute_result"
    }
   ],
   "source": [
    "arr1 = np.array([6, 7.5, 8, 0, 1])\n",
    "arr1,arr1.dtype\n",
    "arr2 = np.array([[1, 2, 3, 4], [5, 6, 7, 8]])\n",
    "arr2,arr2.dtype"
   ]
  },
  {
   "cell_type": "code",
   "execution_count": 15,
   "metadata": {
    "ExecuteTime": {
     "end_time": "2019-04-02T01:10:05.899260Z",
     "start_time": "2019-04-02T01:10:05.878776Z"
    },
    "pycharm": {}
   },
   "outputs": [
    {
     "name": "stdout",
     "output_type": "stream",
     "text": [
      "ndim  (1): 1\n",
      "shape (1): (5,)\n",
      "ndim  (2): 2\n",
      "shape (2): (2, 4)\n"
     ]
    }
   ],
   "source": [
    "print(\"ndim  (1):\",arr1.ndim)\n",
    "print(\"shape (1):\",arr1.shape)\n",
    "print(\"ndim  (2):\",arr2.ndim)\n",
    "print(\"shape (2):\",arr2.shape)"
   ]
  },
  {
   "cell_type": "markdown",
   "metadata": {
    "pycharm": {}
   },
   "source": [
    "Contrast this with the Python ``len`` builtin:"
   ]
  },
  {
   "cell_type": "code",
   "execution_count": 16,
   "metadata": {
    "ExecuteTime": {
     "end_time": "2019-04-02T00:21:58.399384Z",
     "start_time": "2019-04-02T00:21:58.391691Z"
    },
    "pycharm": {}
   },
   "outputs": [
    {
     "data": {
      "text/plain": [
       "(5, 2)"
      ]
     },
     "execution_count": 16,
     "metadata": {},
     "output_type": "execute_result"
    }
   ],
   "source": [
    "len(arr1), len(arr2)"
   ]
  },
  {
   "cell_type": "markdown",
   "metadata": {
    "ExecuteTime": {
     "end_time": "2019-04-02T01:11:00.368972Z",
     "start_time": "2019-04-02T01:11:00.355786Z"
    }
   },
   "source": [
    "<font color='red'>\n",
    "    * len(array): gives the length of the first dimension\n",
    "</font>"
   ]
  },
  {
   "cell_type": "markdown",
   "metadata": {
    "pycharm": {}
   },
   "source": [
    "### Data types\n",
    "\n",
    "Each array has a dtype associated with it, which is the type used to store the elements of the array.\n",
    "The numerical dtypes are named as follows: a type name, like float or int, followed by a number indicating the number of bits per element. A standard double-precision floating-point value (what’s used under the hood in Python’s float object) takes up 8 bytes or 64 bits. Thus, this type is known in Numpy as ``float64``.\n",
    "\n"
   ]
  },
  {
   "cell_type": "code",
   "execution_count": 17,
   "metadata": {
    "ExecuteTime": {
     "end_time": "2019-04-02T00:21:58.410315Z",
     "start_time": "2019-04-02T00:21:58.401861Z"
    },
    "pycharm": {}
   },
   "outputs": [
    {
     "data": {
      "text/plain": [
       "dtype('int32')"
      ]
     },
     "execution_count": 17,
     "metadata": {},
     "output_type": "execute_result"
    }
   ],
   "source": [
    "a1 = np.array([1, 2, 3], dtype=np.float64)\n",
    "a2 = np.array([1, 2, 3], dtype=np.int32)\n",
    "a1.dtype\n",
    "a2.dtype"
   ]
  },
  {
   "cell_type": "markdown",
   "metadata": {
    "pycharm": {}
   },
   "source": [
    "What would be the resulting data type for an array that contains strings and numbers?"
   ]
  },
  {
   "cell_type": "code",
   "execution_count": 18,
   "metadata": {
    "ExecuteTime": {
     "end_time": "2019-04-02T00:21:58.417095Z",
     "start_time": "2019-04-02T00:21:58.413088Z"
    },
    "collapsed": true,
    "jupyter": {
     "outputs_hidden": true
    },
    "pycharm": {}
   },
   "outputs": [],
   "source": [
    "# create an array that contains strings and numbers and check its data type"
   ]
  },
  {
   "cell_type": "code",
   "execution_count": 19,
   "metadata": {
    "ExecuteTime": {
     "end_time": "2019-04-02T01:13:23.082963Z",
     "start_time": "2019-04-02T01:13:23.067866Z"
    }
   },
   "outputs": [
    {
     "data": {
      "text/plain": [
       "dtype('<U21')"
      ]
     },
     "execution_count": 19,
     "metadata": {},
     "output_type": "execute_result"
    }
   ],
   "source": [
    "a = np.array([1,2,3,\"1\",\"12\",\"123\"])\n",
    "a.dtype"
   ]
  },
  {
   "cell_type": "markdown",
   "metadata": {},
   "source": [
    "<font color=red>\n",
    "    * uses a unicode character type\n",
    "</font>"
   ]
  },
  {
   "cell_type": "markdown",
   "metadata": {
    "pycharm": {}
   },
   "source": [
    "Some functions for creating arrays:"
   ]
  },
  {
   "cell_type": "code",
   "execution_count": 20,
   "metadata": {
    "ExecuteTime": {
     "end_time": "2019-04-02T00:21:58.444324Z",
     "start_time": "2019-04-02T00:21:58.420770Z"
    },
    "pycharm": {}
   },
   "outputs": [
    {
     "name": "stdout",
     "output_type": "stream",
     "text": [
      "[[0. 0.]\n",
      " [0. 0.]]\n",
      "[[1. 1.]\n",
      " [1. 1.]]\n",
      "[[1. 0.]\n",
      " [0. 1.]]\n",
      "[[0.57329665 0.0515955  0.07447179]\n",
      " [0.9729863  0.40266119 0.25623456]\n",
      " [0.98790916 0.77169389 0.186893  ]]\n",
      "[2.  2.1 2.2 2.3 2.4 2.5 2.6 2.7 2.8 2.9]\n",
      "[1.  1.6 2.2 2.8 3.4 4. ]\n"
     ]
    }
   ],
   "source": [
    "a = np.zeros((2,2))      # Create an array of zeros\n",
    "print(a)\n",
    "\n",
    "b = np.ones((2,2))       # Create an array of ones\n",
    "print(b)\n",
    "\n",
    "d = np.eye(2)            # Create a 2x2 identity matrix\n",
    "print(d)\n",
    "\n",
    "e = np.random.random((3,3))\n",
    "print(e)  \n",
    "\n",
    "f = np.arange(2, 3, 0.1)\n",
    "print(f)\n",
    "\n",
    "g = np.linspace(1., 4., 6)\n",
    "print(g)"
   ]
  },
  {
   "cell_type": "markdown",
   "metadata": {
    "pycharm": {}
   },
   "source": [
    "### Sidenote - getting **help** on python objects:\n",
    "\n",
    "For getting help e.g. on the Numpy **linspace** function you can do one of the following:\n",
    "\n",
    "```python\n",
    "?np.linspace\n",
    "```\n",
    "\n",
    "or\n",
    "\n",
    "```python\n",
    "help(np.linspace)\n",
    "```"
   ]
  },
  {
   "cell_type": "code",
   "execution_count": 21,
   "metadata": {
    "ExecuteTime": {
     "end_time": "2019-04-02T00:21:58.460611Z",
     "start_time": "2019-04-02T00:21:58.455108Z"
    },
    "pycharm": {}
   },
   "outputs": [
    {
     "name": "stdout",
     "output_type": "stream",
     "text": [
      "Help on function linspace in module numpy:\n",
      "\n",
      "linspace(start, stop, num=50, endpoint=True, retstep=False, dtype=None, axis=0)\n",
      "    Return evenly spaced numbers over a specified interval.\n",
      "    \n",
      "    Returns `num` evenly spaced samples, calculated over the\n",
      "    interval [`start`, `stop`].\n",
      "    \n",
      "    The endpoint of the interval can optionally be excluded.\n",
      "    \n",
      "    .. versionchanged:: 1.16.0\n",
      "        Non-scalar `start` and `stop` are now supported.\n",
      "    \n",
      "    Parameters\n",
      "    ----------\n",
      "    start : array_like\n",
      "        The starting value of the sequence.\n",
      "    stop : array_like\n",
      "        The end value of the sequence, unless `endpoint` is set to False.\n",
      "        In that case, the sequence consists of all but the last of ``num + 1``\n",
      "        evenly spaced samples, so that `stop` is excluded.  Note that the step\n",
      "        size changes when `endpoint` is False.\n",
      "    num : int, optional\n",
      "        Number of samples to generate. Default is 50. Must be non-negative.\n",
      "    endpoint : bool, optional\n",
      "        If True, `stop` is the last sample. Otherwise, it is not included.\n",
      "        Default is True.\n",
      "    retstep : bool, optional\n",
      "        If True, return (`samples`, `step`), where `step` is the spacing\n",
      "        between samples.\n",
      "    dtype : dtype, optional\n",
      "        The type of the output array.  If `dtype` is not given, infer the data\n",
      "        type from the other input arguments.\n",
      "    \n",
      "        .. versionadded:: 1.9.0\n",
      "    \n",
      "    axis : int, optional\n",
      "        The axis in the result to store the samples.  Relevant only if start\n",
      "        or stop are array-like.  By default (0), the samples will be along a\n",
      "        new axis inserted at the beginning. Use -1 to get an axis at the end.\n",
      "    \n",
      "        .. versionadded:: 1.16.0\n",
      "    \n",
      "    Returns\n",
      "    -------\n",
      "    samples : ndarray\n",
      "        There are `num` equally spaced samples in the closed interval\n",
      "        ``[start, stop]`` or the half-open interval ``[start, stop)``\n",
      "        (depending on whether `endpoint` is True or False).\n",
      "    step : float, optional\n",
      "        Only returned if `retstep` is True\n",
      "    \n",
      "        Size of spacing between samples.\n",
      "    \n",
      "    \n",
      "    See Also\n",
      "    --------\n",
      "    arange : Similar to `linspace`, but uses a step size (instead of the\n",
      "             number of samples).\n",
      "    geomspace : Similar to `linspace`, but with numbers spaced evenly on a log\n",
      "                scale (a geometric progression).\n",
      "    logspace : Similar to `geomspace`, but with the end points specified as\n",
      "               logarithms.\n",
      "    \n",
      "    Examples\n",
      "    --------\n",
      "    >>> np.linspace(2.0, 3.0, num=5)\n",
      "    array([ 2.  ,  2.25,  2.5 ,  2.75,  3.  ])\n",
      "    >>> np.linspace(2.0, 3.0, num=5, endpoint=False)\n",
      "    array([ 2. ,  2.2,  2.4,  2.6,  2.8])\n",
      "    >>> np.linspace(2.0, 3.0, num=5, retstep=True)\n",
      "    (array([ 2.  ,  2.25,  2.5 ,  2.75,  3.  ]), 0.25)\n",
      "    \n",
      "    Graphical illustration:\n",
      "    \n",
      "    >>> import matplotlib.pyplot as plt\n",
      "    >>> N = 8\n",
      "    >>> y = np.zeros(N)\n",
      "    >>> x1 = np.linspace(0, 10, N, endpoint=True)\n",
      "    >>> x2 = np.linspace(0, 10, N, endpoint=False)\n",
      "    >>> plt.plot(x1, y, 'o')\n",
      "    [<matplotlib.lines.Line2D object at 0x...>]\n",
      "    >>> plt.plot(x2, y + 0.5, 'o')\n",
      "    [<matplotlib.lines.Line2D object at 0x...>]\n",
      "    >>> plt.ylim([-0.5, 1])\n",
      "    (-0.5, 1)\n",
      "    >>> plt.show()\n",
      "\n"
     ]
    }
   ],
   "source": [
    "help(np.linspace)"
   ]
  },
  {
   "cell_type": "markdown",
   "metadata": {
    "pycharm": {}
   },
   "source": [
    "### Array indexing and slicing\n",
    "\n",
    "We'll begin with one dimensional arrays:"
   ]
  },
  {
   "cell_type": "code",
   "execution_count": 22,
   "metadata": {
    "ExecuteTime": {
     "end_time": "2019-04-02T00:21:58.474572Z",
     "start_time": "2019-04-02T00:21:58.466117Z"
    },
    "pycharm": {}
   },
   "outputs": [
    {
     "name": "stdout",
     "output_type": "stream",
     "text": [
      "2 3 4\n"
     ]
    },
    {
     "data": {
      "text/plain": [
       "array([5, 3, 4])"
      ]
     },
     "execution_count": 22,
     "metadata": {},
     "output_type": "execute_result"
    }
   ],
   "source": [
    "a = np.array([2,3,4])\n",
    "print(a[0], a[1], a[2])\n",
    "a[0] = 5                  # Change an element of the array\n",
    "a"
   ]
  },
  {
   "cell_type": "markdown",
   "metadata": {
    "pycharm": {}
   },
   "source": [
    "Can you explain what's happening in the following piece of code?"
   ]
  },
  {
   "cell_type": "code",
   "execution_count": 23,
   "metadata": {
    "ExecuteTime": {
     "end_time": "2019-04-02T00:21:58.484648Z",
     "start_time": "2019-04-02T00:21:58.478336Z"
    },
    "pycharm": {}
   },
   "outputs": [
    {
     "data": {
      "text/plain": [
       "array([1234,    3,    4])"
      ]
     },
     "execution_count": 23,
     "metadata": {},
     "output_type": "execute_result"
    }
   ],
   "source": [
    "b = a\n",
    "b[0] = 1234\n",
    "a\n",
    "b"
   ]
  },
  {
   "cell_type": "code",
   "execution_count": 24,
   "metadata": {
    "ExecuteTime": {
     "end_time": "2019-04-02T00:21:58.495980Z",
     "start_time": "2019-04-02T00:21:58.487672Z"
    },
    "pycharm": {}
   },
   "outputs": [
    {
     "data": {
      "text/plain": [
       "array([ 0,  1,  2,  3,  4, 12, 12, 12,  8,  9])"
      ]
     },
     "execution_count": 24,
     "metadata": {},
     "output_type": "execute_result"
    }
   ],
   "source": [
    "a = np.arange(10)\n",
    "a\n",
    "# indexing a single element\n",
    "a[5]\n",
    "# a slice:\n",
    "a[5:8]\n",
    "a[5:8] = 12\n",
    "a"
   ]
  },
  {
   "cell_type": "markdown",
   "metadata": {
    "pycharm": {}
   },
   "source": [
    "Let's see how slices behave in Numpy:"
   ]
  },
  {
   "cell_type": "code",
   "execution_count": 25,
   "metadata": {
    "ExecuteTime": {
     "end_time": "2019-04-02T00:21:58.507441Z",
     "start_time": "2019-04-02T00:21:58.499890Z"
    },
    "pycharm": {}
   },
   "outputs": [
    {
     "data": {
      "text/plain": [
       "array([12, 12, 12])"
      ]
     },
     "execution_count": 25,
     "metadata": {},
     "output_type": "execute_result"
    }
   ],
   "source": [
    "a_slice = a[5:8]\n",
    "a_slice"
   ]
  },
  {
   "cell_type": "code",
   "execution_count": 26,
   "metadata": {
    "ExecuteTime": {
     "end_time": "2019-04-02T00:21:58.519933Z",
     "start_time": "2019-04-02T00:21:58.511348Z"
    },
    "pycharm": {}
   },
   "outputs": [
    {
     "data": {
      "text/plain": [
       "array([    0,     1,     2,     3,     4,    12, 12345,    12,     8,\n",
       "           9])"
      ]
     },
     "execution_count": 26,
     "metadata": {},
     "output_type": "execute_result"
    }
   ],
   "source": [
    "a_slice[1] = 12345\n",
    "a"
   ]
  },
  {
   "cell_type": "markdown",
   "metadata": {
    "pycharm": {}
   },
   "source": [
    "Numpy has been designed to be able to work with very large arrays, so eagerly copying data could cause severe performance and memory problems.\n",
    "\n",
    "If you want a copy of a slice instead of a view, you will need to explicitly copy it using e.g. ``arr[5:8].copy``.\n"
   ]
  },
  {
   "cell_type": "markdown",
   "metadata": {
    "pycharm": {}
   },
   "source": [
    "#### Two dimensional arrays\n",
    "\n",
    "Let's look at two dimensional arrays."
   ]
  },
  {
   "cell_type": "code",
   "execution_count": 27,
   "metadata": {
    "ExecuteTime": {
     "end_time": "2019-04-02T00:21:58.539794Z",
     "start_time": "2019-04-02T00:21:58.524566Z"
    },
    "pycharm": {}
   },
   "outputs": [
    {
     "name": "stdout",
     "output_type": "stream",
     "text": [
      "1 2 4\n",
      "1 2 4\n"
     ]
    }
   ],
   "source": [
    "b = np.array([[1,2,3],[4,5,6]])\n",
    "b,b.shape\n",
    "\n",
    "print(b[0, 0], b[0, 1], b[1, 0])\n",
    "print(b[0][0], b[0][1], b[1][0])\n"
   ]
  },
  {
   "cell_type": "markdown",
   "metadata": {
    "pycharm": {}
   },
   "source": [
    "The latter form of indexing works, because each row of a two dimensional array is an array as well:"
   ]
  },
  {
   "cell_type": "code",
   "execution_count": 28,
   "metadata": {
    "ExecuteTime": {
     "end_time": "2019-04-02T00:21:58.558086Z",
     "start_time": "2019-04-02T00:21:58.544294Z"
    },
    "pycharm": {}
   },
   "outputs": [
    {
     "data": {
      "text/plain": [
       "array([4, 5, 6])"
      ]
     },
     "execution_count": 28,
     "metadata": {},
     "output_type": "execute_result"
    }
   ],
   "source": [
    "a = b[1]\n",
    "a"
   ]
  },
  {
   "cell_type": "markdown",
   "metadata": {
    "pycharm": {}
   },
   "source": [
    "## Array indexing\n"
   ]
  },
  {
   "cell_type": "code",
   "execution_count": 29,
   "metadata": {
    "ExecuteTime": {
     "end_time": "2019-04-02T00:21:58.571879Z",
     "start_time": "2019-04-02T00:21:58.561979Z"
    },
    "pycharm": {}
   },
   "outputs": [
    {
     "data": {
      "text/plain": [
       "2"
      ]
     },
     "execution_count": 29,
     "metadata": {},
     "output_type": "execute_result"
    }
   ],
   "source": [
    "a = np.array([[1,2,3,4], [5,6,7,8], [9,10,11,12]])\n",
    "a[0][1]"
   ]
  },
  {
   "cell_type": "markdown",
   "metadata": {
    "pycharm": {}
   },
   "source": [
    "To access the first row in the data matrix:"
   ]
  },
  {
   "cell_type": "code",
   "execution_count": 30,
   "metadata": {
    "ExecuteTime": {
     "end_time": "2019-04-02T00:21:58.592303Z",
     "start_time": "2019-04-02T00:21:58.575395Z"
    },
    "pycharm": {}
   },
   "outputs": [
    {
     "data": {
      "text/plain": [
       "(array([1, 2, 3, 4]), (4,))"
      ]
     },
     "execution_count": 30,
     "metadata": {},
     "output_type": "execute_result"
    }
   ],
   "source": [
    "row = a[0]    # the first row of X\n",
    "row, row.shape"
   ]
  },
  {
   "cell_type": "markdown",
   "metadata": {
    "pycharm": {}
   },
   "source": [
    "To access a column of the matrix:"
   ]
  },
  {
   "cell_type": "code",
   "execution_count": 31,
   "metadata": {
    "ExecuteTime": {
     "end_time": "2019-04-02T00:21:58.611577Z",
     "start_time": "2019-04-02T00:21:58.600065Z"
    },
    "pycharm": {}
   },
   "outputs": [
    {
     "data": {
      "text/plain": [
       "(array([1, 5, 9]), (3,))"
      ]
     },
     "execution_count": 31,
     "metadata": {},
     "output_type": "execute_result"
    }
   ],
   "source": [
    "col = a[:, 0]\n",
    "col, col.shape"
   ]
  },
  {
   "cell_type": "markdown",
   "metadata": {
    "pycharm": {}
   },
   "source": [
    "We can perform slicing on multiple dimensions, creating a submatrix:"
   ]
  },
  {
   "cell_type": "code",
   "execution_count": 32,
   "metadata": {
    "ExecuteTime": {
     "end_time": "2019-04-02T00:21:58.632609Z",
     "start_time": "2019-04-02T00:21:58.617243Z"
    },
    "pycharm": {}
   },
   "outputs": [
    {
     "data": {
      "text/plain": [
       "(array([[ 6,  7,  8],\n",
       "        [10, 11, 12]]), (2, 3))"
      ]
     },
     "execution_count": 32,
     "metadata": {},
     "output_type": "execute_result"
    }
   ],
   "source": [
    "submatrix = a[1:3, 1:4]\n",
    "submatrix, submatrix.shape"
   ]
  },
  {
   "cell_type": "markdown",
   "metadata": {
    "pycharm": {}
   },
   "source": [
    "### Advanced indexing\n",
    "\n",
    "You can index an array using an integer array:\n"
   ]
  },
  {
   "cell_type": "code",
   "execution_count": 33,
   "metadata": {
    "ExecuteTime": {
     "end_time": "2019-04-02T00:21:58.646050Z",
     "start_time": "2019-04-02T00:21:58.636375Z"
    },
    "pycharm": {}
   },
   "outputs": [
    {
     "data": {
      "text/plain": [
       "array([[ 1,  2,  3,  4],\n",
       "       [ 9, 10, 11, 12]])"
      ]
     },
     "execution_count": 33,
     "metadata": {},
     "output_type": "execute_result"
    }
   ],
   "source": [
    "a[ [0, 2] ]   # extract a given set of rows"
   ]
  },
  {
   "cell_type": "code",
   "execution_count": 34,
   "metadata": {
    "ExecuteTime": {
     "end_time": "2019-04-02T00:21:58.664782Z",
     "start_time": "2019-04-02T00:21:58.650394Z"
    },
    "pycharm": {}
   },
   "outputs": [
    {
     "data": {
      "text/plain": [
       "array([[ 1,  3],\n",
       "       [ 5,  7],\n",
       "       [ 9, 11]])"
      ]
     },
     "execution_count": 34,
     "metadata": {},
     "output_type": "execute_result"
    }
   ],
   "source": [
    "a[:, [0,2]]  # extract a given set of columns"
   ]
  },
  {
   "cell_type": "markdown",
   "metadata": {
    "pycharm": {}
   },
   "source": [
    "**Question:** does indexing using an array create a copy of the array or simply a view, as in the case of slicing?"
   ]
  },
  {
   "cell_type": "markdown",
   "metadata": {},
   "source": [
    "<font color=red>\n",
    "* indexing / fancy indexing do not create views. They instead make copies by value.\n",
    "    \n",
    "* you can however use both indexing schemes during variable assighnment in order to change the original array\n",
    "</font>"
   ]
  },
  {
   "cell_type": "code",
   "execution_count": 35,
   "metadata": {
    "ExecuteTime": {
     "end_time": "2019-04-02T02:42:56.319482Z",
     "start_time": "2019-04-02T02:42:56.310877Z"
    },
    "pycharm": {}
   },
   "outputs": [
    {
     "name": "stdout",
     "output_type": "stream",
     "text": [
      "a (before): [1 2 3 4 5]\n",
      "b (before): [2 3]\n",
      "a (after):  [1 2 3 4 5]\n",
      "b (after):  [99  3]\n"
     ]
    }
   ],
   "source": [
    "a = np.arange(1,6)\n",
    "b = a[[1,2]]\n",
    "print(\"a (before):\",a)\n",
    "print(\"b (before):\",b)\n",
    "b[0] = 99\n",
    "print(\"a (after): \",a)\n",
    "print(\"b (after): \",b)"
   ]
  },
  {
   "cell_type": "markdown",
   "metadata": {
    "pycharm": {}
   },
   "source": [
    "#### Exercises\n",
    "\n",
    "describe the effect of each of the following slices:"
   ]
  },
  {
   "cell_type": "code",
   "execution_count": 36,
   "metadata": {
    "ExecuteTime": {
     "end_time": "2019-04-02T02:47:32.256793Z",
     "start_time": "2019-04-02T02:47:32.162968Z"
    },
    "pycharm": {}
   },
   "outputs": [
    {
     "data": {
      "text/plain": [
       "array([[1, 2, 3],\n",
       "       [4, 5, 6],\n",
       "       [7, 8, 9]])"
      ]
     },
     "execution_count": 36,
     "metadata": {},
     "output_type": "execute_result"
    }
   ],
   "source": [
    "a2d = np.array([[1, 2, 3], [4, 5, 6], [7, 8, 9]])\n",
    "a2d"
   ]
  },
  {
   "cell_type": "markdown",
   "metadata": {},
   "source": [
    "<font color=red>\n",
    "1.) return the first 2 rows.\n",
    "</font>"
   ]
  },
  {
   "cell_type": "code",
   "execution_count": 37,
   "metadata": {
    "ExecuteTime": {
     "end_time": "2019-04-02T00:21:58.696619Z",
     "start_time": "2019-04-02T00:21:58.688396Z"
    },
    "pycharm": {}
   },
   "outputs": [
    {
     "data": {
      "text/plain": [
       "array([[1, 2, 3],\n",
       "       [4, 5, 6]])"
      ]
     },
     "execution_count": 37,
     "metadata": {},
     "output_type": "execute_result"
    }
   ],
   "source": [
    "a2d[:2]"
   ]
  },
  {
   "cell_type": "markdown",
   "metadata": {},
   "source": [
    "<font color=red>\n",
    "2.) return the first two rows, and all of the columns after the first.\n",
    "</font>"
   ]
  },
  {
   "cell_type": "code",
   "execution_count": 38,
   "metadata": {
    "ExecuteTime": {
     "end_time": "2019-04-02T00:21:58.710419Z",
     "start_time": "2019-04-02T00:21:58.703004Z"
    },
    "pycharm": {}
   },
   "outputs": [
    {
     "data": {
      "text/plain": [
       "array([[2, 3],\n",
       "       [5, 6]])"
      ]
     },
     "execution_count": 38,
     "metadata": {},
     "output_type": "execute_result"
    }
   ],
   "source": [
    "a2d[:2, 1:]"
   ]
  },
  {
   "cell_type": "markdown",
   "metadata": {},
   "source": [
    "<font color=red>\n",
    "3.) return the second row, and the first two columns\n",
    "</font>"
   ]
  },
  {
   "cell_type": "code",
   "execution_count": 39,
   "metadata": {
    "ExecuteTime": {
     "end_time": "2019-04-02T00:21:58.722083Z",
     "start_time": "2019-04-02T00:21:58.714835Z"
    },
    "pycharm": {}
   },
   "outputs": [
    {
     "data": {
      "text/plain": [
       "array([4, 5])"
      ]
     },
     "execution_count": 39,
     "metadata": {},
     "output_type": "execute_result"
    }
   ],
   "source": [
    "a2d[1, :2]"
   ]
  },
  {
   "cell_type": "markdown",
   "metadata": {},
   "source": [
    "<font color=red>\n",
    "4.) return the first two rows, and the third column \n",
    "</font>"
   ]
  },
  {
   "cell_type": "code",
   "execution_count": 40,
   "metadata": {
    "ExecuteTime": {
     "end_time": "2019-04-02T00:21:58.732982Z",
     "start_time": "2019-04-02T00:21:58.725720Z"
    },
    "pycharm": {}
   },
   "outputs": [
    {
     "data": {
      "text/plain": [
       "array([3, 6])"
      ]
     },
     "execution_count": 40,
     "metadata": {},
     "output_type": "execute_result"
    }
   ],
   "source": [
    "a2d[:2, 2]"
   ]
  },
  {
   "cell_type": "markdown",
   "metadata": {},
   "source": [
    "<font color=red>\n",
    "5.) return first column\n",
    "</font>"
   ]
  },
  {
   "cell_type": "code",
   "execution_count": 41,
   "metadata": {
    "ExecuteTime": {
     "end_time": "2019-04-02T00:21:58.743261Z",
     "start_time": "2019-04-02T00:21:58.736030Z"
    },
    "pycharm": {}
   },
   "outputs": [
    {
     "data": {
      "text/plain": [
       "array([[1],\n",
       "       [4],\n",
       "       [7]])"
      ]
     },
     "execution_count": 41,
     "metadata": {},
     "output_type": "execute_result"
    }
   ],
   "source": [
    "a2d[:, :1]"
   ]
  },
  {
   "cell_type": "markdown",
   "metadata": {
    "pycharm": {}
   },
   "source": [
    "#### Boolean indexing"
   ]
  },
  {
   "cell_type": "code",
   "execution_count": 42,
   "metadata": {
    "ExecuteTime": {
     "end_time": "2019-04-02T00:21:58.756071Z",
     "start_time": "2019-04-02T00:21:58.746640Z"
    },
    "pycharm": {}
   },
   "outputs": [
    {
     "data": {
      "text/plain": [
       "array([[-0.58791395,  0.01097025, -0.4368801 ,  0.97536299],\n",
       "       [ 2.67192951, -0.25100212, -1.15981435, -0.14628716],\n",
       "       [-0.91122094,  0.72830045, -1.95168616,  1.43035907],\n",
       "       [-2.24241387, -0.88841876, -1.22559048, -1.39241537],\n",
       "       [ 0.2050441 , -0.78045492, -0.77712618, -1.03301989],\n",
       "       [-0.52093969,  0.40168168,  1.16469542, -0.06591651],\n",
       "       [ 1.00353147, -0.34843644, -0.20046417,  0.40497078]])"
      ]
     },
     "execution_count": 42,
     "metadata": {},
     "output_type": "execute_result"
    }
   ],
   "source": [
    "names = np.array(['Bob', 'Joe', 'Will', 'Bob', 'Will', 'Joe', 'Joe'])\n",
    "data = np.random.randn(7, 4)\n",
    "names\n",
    "data"
   ]
  },
  {
   "cell_type": "code",
   "execution_count": 43,
   "metadata": {
    "ExecuteTime": {
     "end_time": "2019-04-02T00:21:58.765261Z",
     "start_time": "2019-04-02T00:21:58.758765Z"
    },
    "pycharm": {},
    "scrolled": true
   },
   "outputs": [
    {
     "data": {
      "text/plain": [
       "array([ True, False, False,  True, False, False, False])"
      ]
     },
     "execution_count": 43,
     "metadata": {},
     "output_type": "execute_result"
    }
   ],
   "source": [
    "names == 'Bob'"
   ]
  },
  {
   "cell_type": "code",
   "execution_count": 44,
   "metadata": {
    "ExecuteTime": {
     "end_time": "2019-04-02T00:21:58.775342Z",
     "start_time": "2019-04-02T00:21:58.768405Z"
    },
    "pycharm": {},
    "scrolled": true
   },
   "outputs": [
    {
     "data": {
      "text/plain": [
       "array([[-0.58791395,  0.01097025, -0.4368801 ,  0.97536299],\n",
       "       [-2.24241387, -0.88841876, -1.22559048, -1.39241537]])"
      ]
     },
     "execution_count": 44,
     "metadata": {},
     "output_type": "execute_result"
    }
   ],
   "source": [
    "data[names == 'Bob']"
   ]
  },
  {
   "cell_type": "code",
   "execution_count": 45,
   "metadata": {
    "ExecuteTime": {
     "end_time": "2019-04-02T00:21:58.787923Z",
     "start_time": "2019-04-02T00:21:58.779153Z"
    },
    "pycharm": {}
   },
   "outputs": [
    {
     "data": {
      "text/plain": [
       "array([[ 2.67192951, -0.25100212, -1.15981435, -0.14628716],\n",
       "       [-0.91122094,  0.72830045, -1.95168616,  1.43035907],\n",
       "       [ 0.2050441 , -0.78045492, -0.77712618, -1.03301989],\n",
       "       [-0.52093969,  0.40168168,  1.16469542, -0.06591651],\n",
       "       [ 1.00353147, -0.34843644, -0.20046417,  0.40497078]])"
      ]
     },
     "execution_count": 45,
     "metadata": {},
     "output_type": "execute_result"
    }
   ],
   "source": [
    "cond = names == 'Bob'\n",
    "data[~cond]"
   ]
  },
  {
   "cell_type": "code",
   "execution_count": 46,
   "metadata": {
    "ExecuteTime": {
     "end_time": "2019-04-02T00:21:58.799719Z",
     "start_time": "2019-04-02T00:21:58.790509Z"
    },
    "pycharm": {}
   },
   "outputs": [
    {
     "data": {
      "text/plain": [
       "array([[-0.58791395,  0.01097025, -0.4368801 ,  0.97536299],\n",
       "       [-0.91122094,  0.72830045, -1.95168616,  1.43035907],\n",
       "       [-2.24241387, -0.88841876, -1.22559048, -1.39241537],\n",
       "       [ 0.2050441 , -0.78045492, -0.77712618, -1.03301989]])"
      ]
     },
     "execution_count": 46,
     "metadata": {},
     "output_type": "execute_result"
    }
   ],
   "source": [
    "cond = (names == 'Bob') | (names == 'Will')\n",
    "cond\n",
    "data[cond]"
   ]
  },
  {
   "cell_type": "markdown",
   "metadata": {
    "pycharm": {}
   },
   "source": [
    "**Note:** The Python keywords ``and`` and ``or`` do not work with boolean arrays. You need to use & (and) and | (or) instead.\n"
   ]
  },
  {
   "cell_type": "code",
   "execution_count": 47,
   "metadata": {
    "ExecuteTime": {
     "end_time": "2019-04-02T00:21:58.810177Z",
     "start_time": "2019-04-02T00:21:58.802735Z"
    },
    "pycharm": {}
   },
   "outputs": [
    {
     "data": {
      "text/plain": [
       "array([[0.        , 0.01097025, 0.        , 0.97536299],\n",
       "       [2.67192951, 0.        , 0.        , 0.        ],\n",
       "       [0.        , 0.72830045, 0.        , 1.43035907],\n",
       "       [0.        , 0.        , 0.        , 0.        ],\n",
       "       [0.2050441 , 0.        , 0.        , 0.        ],\n",
       "       [0.        , 0.40168168, 1.16469542, 0.        ],\n",
       "       [1.00353147, 0.        , 0.        , 0.40497078]])"
      ]
     },
     "execution_count": 47,
     "metadata": {},
     "output_type": "execute_result"
    }
   ],
   "source": [
    "data[data < 0] = 0\n",
    "data"
   ]
  },
  {
   "cell_type": "code",
   "execution_count": 48,
   "metadata": {
    "ExecuteTime": {
     "end_time": "2019-04-02T00:21:58.821351Z",
     "start_time": "2019-04-02T00:21:58.812853Z"
    },
    "pycharm": {}
   },
   "outputs": [
    {
     "data": {
      "text/plain": [
       "array([[7.        , 7.        , 7.        , 7.        ],\n",
       "       [2.67192951, 0.        , 0.        , 0.        ],\n",
       "       [7.        , 7.        , 7.        , 7.        ],\n",
       "       [7.        , 7.        , 7.        , 7.        ],\n",
       "       [7.        , 7.        , 7.        , 7.        ],\n",
       "       [0.        , 0.40168168, 1.16469542, 0.        ],\n",
       "       [1.00353147, 0.        , 0.        , 0.40497078]])"
      ]
     },
     "execution_count": 48,
     "metadata": {},
     "output_type": "execute_result"
    }
   ],
   "source": [
    "data[names != 'Joe'] = 7\n",
    "data"
   ]
  },
  {
   "cell_type": "markdown",
   "metadata": {
    "pycharm": {}
   },
   "source": [
    "#### Reshaping arrays"
   ]
  },
  {
   "cell_type": "markdown",
   "metadata": {
    "pycharm": {}
   },
   "source": [
    "What is the effect of the following operation?"
   ]
  },
  {
   "cell_type": "markdown",
   "metadata": {},
   "source": [
    "<font color=red>\n",
    "    * Reshapes the array so that it now has 5 columns, and 3 rows\n",
    "</font>"
   ]
  },
  {
   "cell_type": "code",
   "execution_count": 49,
   "metadata": {
    "ExecuteTime": {
     "end_time": "2019-04-02T16:15:23.371845Z",
     "start_time": "2019-04-02T16:15:23.359818Z"
    },
    "pycharm": {}
   },
   "outputs": [
    {
     "name": "stdout",
     "output_type": "stream",
     "text": [
      "[[ 0  1  2  3  4]\n",
      " [ 5  6  7  8  9]\n",
      " [10 11 12 13 14]]\n"
     ]
    },
    {
     "data": {
      "text/plain": [
       "(3, 5)"
      ]
     },
     "execution_count": 49,
     "metadata": {},
     "output_type": "execute_result"
    }
   ],
   "source": [
    "a = np.arange(15).reshape((3, 5))\n",
    "print(a)\n",
    "a.shape"
   ]
  },
  {
   "cell_type": "markdown",
   "metadata": {
    "pycharm": {}
   },
   "source": [
    "Here's where it becomes interesting..."
   ]
  },
  {
   "cell_type": "code",
   "execution_count": 50,
   "metadata": {
    "ExecuteTime": {
     "end_time": "2019-04-02T00:21:58.846585Z",
     "start_time": "2019-04-02T00:21:58.838306Z"
    },
    "pycharm": {}
   },
   "outputs": [
    {
     "data": {
      "text/plain": [
       "array([[ 0,  1,  2,  3,  4],\n",
       "       [ 5,  6,  7,  8,  9],\n",
       "       [10, 11, 12, 13, 14]])"
      ]
     },
     "execution_count": 50,
     "metadata": {},
     "output_type": "execute_result"
    }
   ],
   "source": [
    "a = np.arange(15).reshape((-1, 5))\n",
    "a"
   ]
  },
  {
   "cell_type": "markdown",
   "metadata": {
    "pycharm": {}
   },
   "source": [
    "This is a neat trick:  -1 here means \"as many rows as needed\""
   ]
  },
  {
   "cell_type": "code",
   "execution_count": 51,
   "metadata": {
    "ExecuteTime": {
     "end_time": "2019-04-02T00:21:58.860056Z",
     "start_time": "2019-04-02T00:21:58.852305Z"
    },
    "pycharm": {},
    "scrolled": true
   },
   "outputs": [
    {
     "data": {
      "text/plain": [
       "(5, 3)"
      ]
     },
     "execution_count": 51,
     "metadata": {},
     "output_type": "execute_result"
    }
   ],
   "source": [
    "a.T\n",
    "a.T.shape"
   ]
  },
  {
   "cell_type": "markdown",
   "metadata": {
    "pycharm": {}
   },
   "source": [
    "This is called the \"transpose\" of a matrix."
   ]
  },
  {
   "cell_type": "code",
   "execution_count": 52,
   "metadata": {
    "ExecuteTime": {
     "end_time": "2019-04-02T00:21:58.870340Z",
     "start_time": "2019-04-02T00:21:58.863141Z"
    },
    "pycharm": {}
   },
   "outputs": [
    {
     "data": {
      "text/plain": [
       "array([[ 0,  5, 10],\n",
       "       [ 1,  6, 11],\n",
       "       [ 2,  7, 12],\n",
       "       [ 3,  8, 13],\n",
       "       [ 4,  9, 14]])"
      ]
     },
     "execution_count": 52,
     "metadata": {},
     "output_type": "execute_result"
    }
   ],
   "source": [
    "np.transpose(a)"
   ]
  },
  {
   "cell_type": "markdown",
   "metadata": {
    "pycharm": {}
   },
   "source": [
    "## Universal Functions: Fast Element-Wise Array Functions\n",
    "\n",
    "A universal function, or *ufunc*, is a function that performs element-wise operations on data in an ndarray. \n"
   ]
  },
  {
   "cell_type": "code",
   "execution_count": 53,
   "metadata": {
    "ExecuteTime": {
     "end_time": "2019-04-02T00:21:58.882387Z",
     "start_time": "2019-04-02T00:21:58.872245Z"
    },
    "pycharm": {}
   },
   "outputs": [
    {
     "data": {
      "text/plain": [
       "array([1.00000000e+00, 2.71828183e+00, 7.38905610e+00, 2.00855369e+01,\n",
       "       5.45981500e+01, 1.48413159e+02, 4.03428793e+02, 1.09663316e+03,\n",
       "       2.98095799e+03, 8.10308393e+03])"
      ]
     },
     "execution_count": 53,
     "metadata": {},
     "output_type": "execute_result"
    }
   ],
   "source": [
    "a = np.arange(10)\n",
    "a\n",
    "np.sqrt(a)\n",
    "np.exp(a)"
   ]
  },
  {
   "cell_type": "code",
   "execution_count": 54,
   "metadata": {
    "ExecuteTime": {
     "end_time": "2019-04-02T00:21:58.894621Z",
     "start_time": "2019-04-02T00:21:58.885302Z"
    },
    "pycharm": {}
   },
   "outputs": [
    {
     "data": {
      "text/plain": [
       "array([ 0.49028855, -0.34406398, -0.1890217 ,  0.54946406,  0.6122704 ,\n",
       "        1.12521894,  2.43589401, -0.07137178])"
      ]
     },
     "execution_count": 54,
     "metadata": {},
     "output_type": "execute_result"
    }
   ],
   "source": [
    "x = np.random.randn(8)\n",
    "y = np.random.randn(8)\n",
    "x\n",
    "y\n",
    "np.maximum(x, y)"
   ]
  },
  {
   "cell_type": "markdown",
   "metadata": {
    "pycharm": {}
   },
   "source": [
    "A complete list of ufuncs is available in the [Numpy documentation](https://docs.scipy.org/doc/numpy/reference/ufuncs.html#available-ufuncs)."
   ]
  },
  {
   "cell_type": "markdown",
   "metadata": {
    "pycharm": {}
   },
   "source": [
    "### Stacking arrays"
   ]
  },
  {
   "cell_type": "code",
   "execution_count": 55,
   "metadata": {
    "ExecuteTime": {
     "end_time": "2019-04-02T00:21:58.906591Z",
     "start_time": "2019-04-02T00:21:58.897182Z"
    },
    "pycharm": {}
   },
   "outputs": [
    {
     "data": {
      "text/plain": [
       "array([1, 2, 3, 4, 5, 6, 7, 8])"
      ]
     },
     "execution_count": 55,
     "metadata": {},
     "output_type": "execute_result"
    }
   ],
   "source": [
    "x = np.array( [1,2,3,4] )\n",
    "y = np.array( [5,6,7,8] )\n",
    "np.vstack([x,y])\n",
    "np.hstack([x,y])"
   ]
  },
  {
   "cell_type": "markdown",
   "metadata": {
    "pycharm": {}
   },
   "source": [
    "### Avoid loops when you can\n",
    "\n",
    "Consider the following piece of code:"
   ]
  },
  {
   "cell_type": "code",
   "execution_count": 56,
   "metadata": {
    "ExecuteTime": {
     "end_time": "2019-04-02T00:21:58.922488Z",
     "start_time": "2019-04-02T00:21:58.910169Z"
    },
    "pycharm": {}
   },
   "outputs": [
    {
     "data": {
      "text/plain": [
       "array([[ 2,  2,  4],\n",
       "       [ 5,  5,  7],\n",
       "       [ 8,  8, 10],\n",
       "       [11, 11, 13]])"
      ]
     },
     "execution_count": 56,
     "metadata": {},
     "output_type": "execute_result"
    }
   ],
   "source": [
    "x = np.array([[1,2,3], [4,5,6], [7,8,9], [10, 11, 12]])\n",
    "v = np.array([1, 0, 1])\n",
    "y = np.empty_like(x)   # Create an empty matrix with the same shape as x\n",
    "\n",
    "# Add the vector v to each row of the matrix x with an explicit loop\n",
    "for i in range(4):\n",
    "    y[i, :] = x[i, :] + v\n",
    "\n",
    "y"
   ]
  },
  {
   "cell_type": "markdown",
   "metadata": {
    "pycharm": {}
   },
   "source": [
    "As we know, loops are slow in python.  There is a much more efficient way of doing this:"
   ]
  },
  {
   "cell_type": "code",
   "execution_count": 57,
   "metadata": {
    "ExecuteTime": {
     "end_time": "2019-04-02T00:21:58.936964Z",
     "start_time": "2019-04-02T00:21:58.926588Z"
    },
    "pycharm": {}
   },
   "outputs": [
    {
     "data": {
      "text/plain": [
       "array([[ 2,  2,  4],\n",
       "       [ 5,  5,  7],\n",
       "       [ 8,  8, 10],\n",
       "       [11, 11, 13]])"
      ]
     },
     "execution_count": 57,
     "metadata": {},
     "output_type": "execute_result"
    }
   ],
   "source": [
    "x = np.array([[1,2,3], [4,5,6], [7,8,9], [10, 11, 12]])\n",
    "v = np.array([1, 0, 1])\n",
    "y = x + v\n",
    "y"
   ]
  },
  {
   "cell_type": "markdown",
   "metadata": {
    "pycharm": {}
   },
   "source": [
    "This is called **broadcasting**."
   ]
  },
  {
   "cell_type": "code",
   "execution_count": 58,
   "metadata": {
    "ExecuteTime": {
     "end_time": "2019-04-02T00:21:58.950206Z",
     "start_time": "2019-04-02T00:21:58.939374Z"
    },
    "pycharm": {}
   },
   "outputs": [
    {
     "data": {
      "text/plain": [
       "array([[-5.  , -5.  , -5.  , ..., -5.  , -5.  , -5.  ],\n",
       "       [-4.95, -4.95, -4.95, ..., -4.95, -4.95, -4.95],\n",
       "       [-4.9 , -4.9 , -4.9 , ..., -4.9 , -4.9 , -4.9 ],\n",
       "       ...,\n",
       "       [ 4.85,  4.85,  4.85, ...,  4.85,  4.85,  4.85],\n",
       "       [ 4.9 ,  4.9 ,  4.9 , ...,  4.9 ,  4.9 ,  4.9 ],\n",
       "       [ 4.95,  4.95,  4.95, ...,  4.95,  4.95,  4.95]])"
      ]
     },
     "execution_count": 58,
     "metadata": {},
     "output_type": "execute_result"
    }
   ],
   "source": [
    "points = np.arange(-5, 5, 0.05)\n",
    "xs, ys = np.meshgrid(points, points)\n",
    "ys"
   ]
  },
  {
   "cell_type": "code",
   "execution_count": 59,
   "metadata": {
    "ExecuteTime": {
     "end_time": "2019-04-02T00:21:58.984880Z",
     "start_time": "2019-04-02T00:21:58.953012Z"
    },
    "collapsed": true,
    "jupyter": {
     "outputs_hidden": true
    },
    "pycharm": {}
   },
   "outputs": [],
   "source": [
    "z = np.sqrt(xs ** 2 + ys ** 2)"
   ]
  },
  {
   "cell_type": "code",
   "execution_count": 60,
   "metadata": {
    "ExecuteTime": {
     "end_time": "2019-04-02T16:39:21.859884Z",
     "start_time": "2019-04-02T16:39:21.527073Z"
    },
    "pycharm": {}
   },
   "outputs": [
    {
     "data": {
      "text/plain": [
       "Text(0.5,1,'plot of $\\\\sqrt{x^2 + y^2}$ for a grid of values')"
      ]
     },
     "execution_count": 60,
     "metadata": {},
     "output_type": "execute_result"
    },
    {
     "data": {
      "image/png": "[encoded data removed]",
      "text/plain": [
       "<Figure size 432x288 with 2 Axes>"
      ]
     },
     "metadata": {},
     "output_type": "display_data"
    }
   ],
   "source": [
    "%matplotlib inline\n",
    "import matplotlib.pyplot as plt\n",
    "plt.imshow(z, cmap=plt.cm.gray)\n",
    "plt.colorbar()\n",
    "plt.title(\"plot of $\\sqrt{x^2 + y^2}$ for a grid of values\")"
   ]
  },
  {
   "cell_type": "markdown",
   "metadata": {
    "pycharm": {}
   },
   "source": [
    "### Expressing Conditional Logic as Array Operations\n"
   ]
  },
  {
   "cell_type": "code",
   "execution_count": 61,
   "metadata": {
    "ExecuteTime": {
     "end_time": "2019-04-02T17:24:57.773708Z",
     "start_time": "2019-04-02T17:24:57.761828Z"
    },
    "collapsed": true,
    "jupyter": {
     "outputs_hidden": true
    },
    "pycharm": {}
   },
   "outputs": [],
   "source": [
    "xarr = np.array([1.1, 1.2, 1.3, 1.4, 1.5])\n",
    "yarr = np.array([2.1, 2.2, 2.3, 2.4, 2.5])\n",
    "cond = np.array([True, False, True, True, False])"
   ]
  },
  {
   "cell_type": "code",
   "execution_count": 62,
   "metadata": {
    "ExecuteTime": {
     "end_time": "2019-04-02T17:24:58.193852Z",
     "start_time": "2019-04-02T17:24:58.184575Z"
    },
    "pycharm": {},
    "scrolled": true
   },
   "outputs": [
    {
     "data": {
      "text/plain": [
       "[1.1, 2.2, 1.3, 1.4, 2.5]"
      ]
     },
     "execution_count": 62,
     "metadata": {},
     "output_type": "execute_result"
    }
   ],
   "source": [
    "result = [(x if c else y)\n",
    "          for x, y, c in zip(xarr, yarr, cond)]\n",
    "result"
   ]
  },
  {
   "cell_type": "code",
   "execution_count": 63,
   "metadata": {
    "ExecuteTime": {
     "end_time": "2019-04-02T17:25:32.143072Z",
     "start_time": "2019-04-02T17:25:32.136386Z"
    },
    "pycharm": {}
   },
   "outputs": [
    {
     "data": {
      "text/plain": [
       "array([1.1, 2.2, 1.3, 1.4, 2.5])"
      ]
     },
     "execution_count": 63,
     "metadata": {},
     "output_type": "execute_result"
    }
   ],
   "source": [
    "result = np.where(cond, xarr, yarr)\n",
    "result"
   ]
  },
  {
   "cell_type": "code",
   "execution_count": 64,
   "metadata": {
    "ExecuteTime": {
     "end_time": "2019-04-02T00:22:00.208935Z",
     "start_time": "2019-04-02T00:22:00.196558Z"
    },
    "pycharm": {}
   },
   "outputs": [
    {
     "data": {
      "text/plain": [
       "array([[ 1,  1,  1, -1],\n",
       "       [-1,  1, -1, -1],\n",
       "       [ 1,  1, -1,  1],\n",
       "       [-1,  1, -1,  1]])"
      ]
     },
     "execution_count": 64,
     "metadata": {},
     "output_type": "execute_result"
    }
   ],
   "source": [
    "arr = np.random.randn(4, 4)\n",
    "arr\n",
    "arr > 0\n",
    "np.where(arr > 0, 1, -1)"
   ]
  },
  {
   "cell_type": "markdown",
   "metadata": {
    "pycharm": {}
   },
   "source": [
    "### Mathematical and Statistical Methods"
   ]
  },
  {
   "cell_type": "code",
   "execution_count": 65,
   "metadata": {
    "ExecuteTime": {
     "end_time": "2019-04-02T00:22:00.221558Z",
     "start_time": "2019-04-02T00:22:00.212091Z"
    },
    "pycharm": {}
   },
   "outputs": [
    {
     "data": {
      "text/plain": [
       "4.810139639261044"
      ]
     },
     "execution_count": 65,
     "metadata": {},
     "output_type": "execute_result"
    }
   ],
   "source": [
    "a = np.random.randn(5, 4)\n",
    "a\n",
    "a.mean()\n",
    "np.mean(a)\n",
    "a.sum()"
   ]
  },
  {
   "cell_type": "code",
   "execution_count": 66,
   "metadata": {
    "ExecuteTime": {
     "end_time": "2019-04-02T00:22:00.235591Z",
     "start_time": "2019-04-02T00:22:00.224321Z"
    },
    "pycharm": {}
   },
   "outputs": [
    {
     "data": {
      "text/plain": [
       "array([0.03463639, 0.84074407, 2.10346508, 1.8312941 ])"
      ]
     },
     "execution_count": 66,
     "metadata": {},
     "output_type": "execute_result"
    }
   ],
   "source": [
    "a.mean(axis=1)\n",
    "a.sum(axis=0)"
   ]
  },
  {
   "cell_type": "code",
   "execution_count": 67,
   "metadata": {
    "ExecuteTime": {
     "end_time": "2019-04-02T00:22:00.249190Z",
     "start_time": "2019-04-02T00:22:00.239518Z"
    },
    "pycharm": {},
    "scrolled": true
   },
   "outputs": [
    {
     "data": {
      "text/plain": [
       "array([ 0,  1,  3,  6, 10, 15, 21, 28])"
      ]
     },
     "execution_count": 67,
     "metadata": {},
     "output_type": "execute_result"
    }
   ],
   "source": [
    "a = np.array([0, 1, 2, 3, 4, 5, 6, 7])\n",
    "a.cumsum()"
   ]
  },
  {
   "cell_type": "markdown",
   "metadata": {
    "pycharm": {}
   },
   "source": [
    "### Example:  Random Walks\n",
    "\n",
    "A random walk in one dimension is a random process where at each step the walker goes a unit step either to the left or to the right.  Random walks have interesting statistical properties that can be investigated by simulating them."
   ]
  },
  {
   "cell_type": "code",
   "execution_count": 68,
   "metadata": {
    "ExecuteTime": {
     "end_time": "2019-04-02T00:22:00.268206Z",
     "start_time": "2019-04-02T00:22:00.254250Z"
    },
    "collapsed": true,
    "jupyter": {
     "outputs_hidden": true
    },
    "pycharm": {}
   },
   "outputs": [],
   "source": [
    "import random\n",
    "def random_walk(n):\n",
    "    \"\"\"Return a list of positions in a random walk\"\"\"\n",
    "    position = 0\n",
    "    walk = [position]\n",
    "    for i in range(n):\n",
    "        position += 2*random.randint(0, 1)-1\n",
    "        walk.append(position)\n",
    "    return walk\n",
    "\n",
    "walk = random_walk(1000)"
   ]
  },
  {
   "cell_type": "code",
   "execution_count": 69,
   "metadata": {
    "ExecuteTime": {
     "end_time": "2019-04-02T00:22:01.846732Z",
     "start_time": "2019-04-02T00:22:00.272651Z"
    },
    "pycharm": {}
   },
   "outputs": [
    {
     "name": "stdout",
     "output_type": "stream",
     "text": [
      "1000 loops, best of 3: 1.18 ms per loop\n"
     ]
    }
   ],
   "source": [
    "%timeit random_walk(1000)"
   ]
  },
  {
   "cell_type": "markdown",
   "metadata": {
    "pycharm": {}
   },
   "source": [
    "Let's create a more efficient Numpy version:"
   ]
  },
  {
   "cell_type": "code",
   "execution_count": 70,
   "metadata": {
    "ExecuteTime": {
     "end_time": "2019-04-02T00:22:01.864034Z",
     "start_time": "2019-04-02T00:22:01.849813Z"
    },
    "collapsed": true,
    "jupyter": {
     "outputs_hidden": true
    },
    "pycharm": {}
   },
   "outputs": [],
   "source": [
    "def random_walk_vectorized(n):\n",
    "    steps = np.random.choice([-1,+1], n)\n",
    "    return np.cumsum(steps)\n",
    "\n",
    "walk = random_walk_vectorized(1000)"
   ]
  },
  {
   "cell_type": "code",
   "execution_count": 71,
   "metadata": {
    "ExecuteTime": {
     "end_time": "2019-04-02T00:22:04.211389Z",
     "start_time": "2019-04-02T00:22:01.866692Z"
    },
    "pycharm": {}
   },
   "outputs": [
    {
     "name": "stdout",
     "output_type": "stream",
     "text": [
      "The slowest run took 7.55 times longer than the fastest. This could mean that an intermediate result is being cached.\n",
      "10000 loops, best of 3: 18.8 µs per loop\n"
     ]
    }
   ],
   "source": [
    "%timeit random_walk_vectorized(1000)"
   ]
  },
  {
   "cell_type": "code",
   "execution_count": 72,
   "metadata": {
    "ExecuteTime": {
     "end_time": "2019-04-02T00:22:04.412904Z",
     "start_time": "2019-04-02T00:22:04.214047Z"
    },
    "pycharm": {}
   },
   "outputs": [
    {
     "data": {
      "text/plain": [
       "[<matplotlib.lines.Line2D at 0x7f1885f5e470>]"
      ]
     },
     "execution_count": 72,
     "metadata": {},
     "output_type": "execute_result"
    },
    {
     "data": {
      "image/png": "[encoded data removed]",
      "text/plain": [
       "<Figure size 432x288 with 1 Axes>"
      ]
     },
     "metadata": {},
     "output_type": "display_data"
    }
   ],
   "source": [
    "num_steps = 10000\n",
    "distance = random_walk_vectorized(num_steps)\n",
    "t = np.arange(num_steps)\n",
    "plt.plot(t, distance, 'g.')\n"
   ]
  },
  {
   "cell_type": "markdown",
   "metadata": {
    "pycharm": {}
   },
   "source": [
    "To investigate statistical properties of random walks we'll need to generate many random walks.  To make this efficient, we'll do it all at once:"
   ]
  },
  {
   "cell_type": "code",
   "execution_count": 73,
   "metadata": {
    "collapsed": true,
    "jupyter": {
     "outputs_hidden": true
    }
   },
   "outputs": [],
   "source": [
    "np.cumsum?"
   ]
  },
  {
   "cell_type": "code",
   "execution_count": 74,
   "metadata": {
    "ExecuteTime": {
     "end_time": "2019-04-02T00:22:04.831810Z",
     "start_time": "2019-04-02T00:22:04.415799Z"
    },
    "collapsed": true,
    "jupyter": {
     "outputs_hidden": true
    },
    "pycharm": {}
   },
   "outputs": [],
   "source": [
    "nwalks = 5000\n",
    "nsteps = 1000\n",
    "draws = np.random.randint(0, 2, size=(nwalks, nsteps)) # 0 or 1\n",
    "steps = np.where(draws > 0, 1, -1)\n",
    "walks = steps.cumsum(axis=1)\n",
    "sq_distance = walks**2\n",
    "mean_sq_distance = np.mean(sq_distance, axis=0)\n"
   ]
  },
  {
   "cell_type": "code",
   "execution_count": 75,
   "metadata": {
    "ExecuteTime": {
     "end_time": "2019-04-02T00:22:05.101240Z",
     "start_time": "2019-04-02T00:22:04.834975Z"
    },
    "pycharm": {}
   },
   "outputs": [
    {
     "data": {
      "text/plain": [
       "Text(0,0.5,'square root of mean square distance')"
      ]
     },
     "execution_count": 75,
     "metadata": {},
     "output_type": "execute_result"
    },
    {
     "data": {
      "image/png": "[encoded data removed]",
      "text/plain": [
       "<Figure size 432x288 with 1 Axes>"
      ]
     },
     "metadata": {},
     "output_type": "display_data"
    }
   ],
   "source": [
    "t = np.arange(nsteps)\n",
    "plt.plot(t, np.sqrt(mean_sq_distance), 'g.',t, np.sqrt(t), 'y-')\n",
    "plt.xlabel(\"$t$\")\n",
    "plt.ylabel(\"square root of mean square distance\")"
   ]
  },
  {
   "cell_type": "markdown",
   "metadata": {
    "pycharm": {}
   },
   "source": [
    "### Numpy documentation\n",
    "\n",
    "These were some of the basics that are relevant to our course.  You can find more details in the  [Numpy user manual](https://docs.scipy.org/doc/numpy/user/) and the detailed [reference guide](https://docs.scipy.org/doc/numpy/reference)."
   ]
  },
  {
   "cell_type": "markdown",
   "metadata": {
    "pycharm": {}
   },
   "source": [
    "### Exercises\n",
    "\n",
    "* Declare a 8x8 matrix and fill it with a checkerboard pattern of zeros and ones\n"
   ]
  },
  {
   "cell_type": "markdown",
   "metadata": {},
   "source": [
    "<font color=red>\n",
    "Solution 1 (list comprehension)\n",
    "<font>"
   ]
  },
  {
   "cell_type": "code",
   "execution_count": 76,
   "metadata": {},
   "outputs": [
    {
     "data": {
      "text/plain": [
       "array([[0, 1, 0, 1, 0, 1, 0, 1],\n",
       "       [1, 0, 1, 0, 1, 0, 1, 0],\n",
       "       [0, 1, 0, 1, 0, 1, 0, 1],\n",
       "       [1, 0, 1, 0, 1, 0, 1, 0],\n",
       "       [0, 1, 0, 1, 0, 1, 0, 1],\n",
       "       [1, 0, 1, 0, 1, 0, 1, 0],\n",
       "       [0, 1, 0, 1, 0, 1, 0, 1],\n",
       "       [1, 0, 1, 0, 1, 0, 1, 0]])"
      ]
     },
     "execution_count": 76,
     "metadata": {},
     "output_type": "execute_result"
    }
   ],
   "source": [
    "matrix = np.array([(i+j)%2 for i in range(8) for j in range(8)]).reshape(8,8)\n",
    "matrix"
   ]
  },
  {
   "cell_type": "markdown",
   "metadata": {},
   "source": [
    "<font color=red>\n",
    "Solution 2 (stack rows)\n",
    "<font>"
   ]
  },
  {
   "cell_type": "code",
   "execution_count": 77,
   "metadata": {
    "ExecuteTime": {
     "end_time": "2019-04-02T17:33:56.795900Z",
     "start_time": "2019-04-02T17:33:56.783489Z"
    },
    "pycharm": {}
   },
   "outputs": [
    {
     "name": "stdout",
     "output_type": "stream",
     "text": [
      "A: [0 1 0 1 0 1 0 1]\n",
      "B: [1 0 1 0 1 0 1 0]\n",
      "Matrix:\n",
      "[[0 1 0 1 0 1 0 1]\n",
      " [1 0 1 0 1 0 1 0]\n",
      " [0 1 0 1 0 1 0 1]\n",
      " [1 0 1 0 1 0 1 0]\n",
      " [0 1 0 1 0 1 0 1]\n",
      " [1 0 1 0 1 0 1 0]\n",
      " [0 1 0 1 0 1 0 1]\n",
      " [1 0 1 0 1 0 1 0]]\n"
     ]
    }
   ],
   "source": [
    "A = np.hstack([np.array([0,1])]*4) # row 1\n",
    "B = np.hstack([np.array([1,0])]*4) # row 2\n",
    "matrix = np.vstack([A,B]*4) # stack rows\n",
    "\n",
    "print(\"A:\",A)\n",
    "print(\"B:\",B)\n",
    "print(\"Matrix:\")\n",
    "print(matrix)"
   ]
  },
  {
   "cell_type": "markdown",
   "metadata": {},
   "source": [
    "<font color=red>\n",
    "Solution 3 (slicing)\n",
    "<font>"
   ]
  },
  {
   "cell_type": "code",
   "execution_count": 78,
   "metadata": {},
   "outputs": [
    {
     "name": "stdout",
     "output_type": "stream",
     "text": [
      "[[0. 1. 0. 1. 0. 1. 0. 1. 0. 1.]\n",
      " [1. 0. 1. 0. 1. 0. 1. 0. 1. 0.]\n",
      " [0. 1. 0. 1. 0. 1. 0. 1. 0. 1.]\n",
      " [1. 0. 1. 0. 1. 0. 1. 0. 1. 0.]\n",
      " [0. 1. 0. 1. 0. 1. 0. 1. 0. 1.]\n",
      " [1. 0. 1. 0. 1. 0. 1. 0. 1. 0.]\n",
      " [0. 1. 0. 1. 0. 1. 0. 1. 0. 1.]\n",
      " [1. 0. 1. 0. 1. 0. 1. 0. 1. 0.]\n",
      " [0. 1. 0. 1. 0. 1. 0. 1. 0. 1.]\n",
      " [1. 0. 1. 0. 1. 0. 1. 0. 1. 0.]]\n"
     ]
    }
   ],
   "source": [
    "A = np.zeros((10,10))\n",
    "A[1::2, ::2 ] = 1 # set 1's in odd rows\n",
    "A[::2,  1::2] = 1 # set 1's in even rows\n",
    "print(A)"
   ]
  },
  {
   "cell_type": "markdown",
   "metadata": {
    "pycharm": {}
   },
   "source": [
    "* Create a 10x10 array with random values and find the minimum and maximum values in the entire array, and in each column / row.\n",
    "\n"
   ]
  },
  {
   "cell_type": "code",
   "execution_count": 79,
   "metadata": {
    "ExecuteTime": {
     "end_time": "2019-04-02T17:34:15.951308Z",
     "start_time": "2019-04-02T17:34:15.940618Z"
    },
    "pycharm": {}
   },
   "outputs": [
    {
     "name": "stdout",
     "output_type": "stream",
     "text": [
      "A:\n",
      " [[43 68 82 42 19 96 79 71 71 76]\n",
      " [ 1 48 36 34 75 30  8 22 12 39]\n",
      " [74 67 32  2 54  4 68 26 75 81]\n",
      " [36 37 15 71 94 63 69 97 20 79]\n",
      " [64 73 69 56 91 12 89  7 20 68]\n",
      " [48 90 34 84 69 60 60 99 93  6]\n",
      " [ 5 91  9 51 62 57 91 11 71 29]\n",
      " [68 63 66 95 46 83 47 28 19  1]\n",
      " [19 23 12 14  4 35 26 54 33 89]\n",
      " [34 46 69 79 46 43 94 26 84  5]]\n",
      "\n",
      "total_max: 99\n",
      "total_min: 1\n",
      "\n",
      "min-row-values:\t [ 1 23  9  2  4  4  8  7 12  1]\n",
      "max-row-values:\t [74 91 82 95 94 96 94 99 93 89]\n",
      "min-col-values:\t [19  1  2 15  7  6  5  1  4  5]\n",
      "max-col-values:\t [96 75 81 97 91 99 91 95 89 94]\n"
     ]
    }
   ],
   "source": [
    "A = np.random.randint(1,100,(10,10))\n",
    "total_max = A.max()\n",
    "total_min = A.min()\n",
    "\n",
    "print(\"A:\\n\",A)\n",
    "print()\n",
    "print(\"total_max:\",total_max)\n",
    "print(\"total_min:\",total_min)\n",
    "print(\"\\nmin-row-values:\\t\", A.min(axis=0))\n",
    "print(\"max-row-values:\\t\", A.max(axis=0))\n",
    "print(\"min-col-values:\\t\", A.min(axis=1))\n",
    "print(\"max-col-values:\\t\", A.max(axis=1))"
   ]
  },
  {
   "cell_type": "markdown",
   "metadata": {
    "pycharm": {}
   },
   "source": [
    "* Create a matrix with arbitrary floating point numbers, and then normalize its values to be:  (i) between 0 and 1, and (ii) to be between -1 and 1."
   ]
  },
  {
   "cell_type": "code",
   "execution_count": 80,
   "metadata": {
    "collapsed": true,
    "jupyter": {
     "outputs_hidden": true
    }
   },
   "outputs": [],
   "source": [
    "np.random.randn?"
   ]
  },
  {
   "cell_type": "code",
   "execution_count": 81,
   "metadata": {},
   "outputs": [
    {
     "data": {
      "text/plain": [
       "array([[-1.26997914, -0.24591186,  0.56327571,  0.17124229, -0.06805987,\n",
       "        -0.29721556, -0.91287172,  0.08095494,  1.04906754, -0.84874516]])"
      ]
     },
     "execution_count": 81,
     "metadata": {},
     "output_type": "execute_result"
    }
   ],
   "source": [
    "A = np.random.randn(1,10)\n",
    "A"
   ]
  },
  {
   "cell_type": "code",
   "execution_count": 82,
   "metadata": {},
   "outputs": [
    {
     "data": {
      "text/plain": [
       "array([[0.        , 0.44158977, 0.79052089, 0.62147151, 0.51828162,\n",
       "        0.41946701, 0.15398889, 0.58253855, 1.        , 0.18164101]])"
      ]
     },
     "execution_count": 82,
     "metadata": {},
     "output_type": "execute_result"
    }
   ],
   "source": [
    "A += np.fabs(A.min())\n",
    "A /= np.max(A)\n",
    "A"
   ]
  },
  {
   "cell_type": "code",
   "execution_count": 83,
   "metadata": {
    "ExecuteTime": {
     "end_time": "2019-04-02T17:32:19.475769Z",
     "start_time": "2019-04-02T17:32:19.470552Z"
    },
    "pycharm": {}
   },
   "outputs": [
    {
     "name": "stdout",
     "output_type": "stream",
     "text": [
      "A:\n",
      " [[0.         0.44158977 0.79052089 0.62147151 0.51828162 0.41946701\n",
      "  0.15398889 0.58253855 1.         0.18164101]]\n",
      "Normalized:\n",
      " [[-1.         -0.11682047  0.58104179  0.24294302  0.03656324 -0.16106598\n",
      "  -0.69202222  0.16507709  1.         -0.63671798]]\n"
     ]
    }
   ],
   "source": [
    "normalized = A*2 - 1\n",
    "print(\"A:\\n\",A)\n",
    "print(\"Normalized:\\n\",normalized)"
   ]
  },
  {
   "cell_type": "markdown",
   "metadata": {
    "pycharm": {}
   },
   "source": [
    "* Create random vector of size 100, where each element is between 0 and 5, and replace the maximum value by 0"
   ]
  },
  {
   "cell_type": "code",
   "execution_count": 84,
   "metadata": {
    "ExecuteTime": {
     "end_time": "2019-04-02T17:26:55.187146Z",
     "start_time": "2019-04-02T17:26:55.179658Z"
    },
    "pycharm": {}
   },
   "outputs": [
    {
     "name": "stdout",
     "output_type": "stream",
     "text": [
      "elements:\n",
      " [[3.09265068 0.24748037 1.23600736 0.43043515 0.36915672 1.48714039\n",
      "  0.03102327 4.56703355 0.39297087 4.80461931 2.51892385 4.34419464\n",
      "  1.43949118 0.20898355 0.14946449 0.44642594 1.20820145 3.54251287\n",
      "  4.10975802 1.66738867 4.54469243 3.67516313 0.88837843 1.92142455\n",
      "  3.37027816 3.13793362 0.09346232 3.99766977 0.87226918 4.99138902\n",
      "  1.76408973 0.38054981 4.45204574 1.03069868 2.271678   0.91876141\n",
      "  2.0346868  4.06249967 3.57388571 4.29915274 2.51200679 3.33059718\n",
      "  0.05398966 3.80073915 0.49759294 4.56829935 4.48285308 3.91826456\n",
      "  0.10644052 4.08950116 0.06807881 4.88639965 4.68756993 3.88353328\n",
      "  2.46877186 3.87392558 3.04566346 4.74039403 3.38769029 1.37683596\n",
      "  2.19318266 4.93109943 1.05579622 4.78201807 2.06103883 2.54239423\n",
      "  4.67789342 4.06067377 0.58137221 3.17955543 1.94077559 4.51434092\n",
      "  0.49543652 4.12130815 2.11114899 4.4434679  3.76330672 1.06524574\n",
      "  1.5543962  4.26276505 3.98967992 3.29314271 4.71306695 4.21306964\n",
      "  2.24617634 0.4297751  2.36450143 2.80464736 1.0727527  4.74218157\n",
      "  2.91790283 0.38819789 2.40703769 0.18919308 1.12391521 0.02238897\n",
      "  3.53908771 1.38556226 4.01156052 3.32434569]]\n",
      "max positions: (array([0]), array([29]))\n"
     ]
    }
   ],
   "source": [
    "elements = np.random.random([1,100])*5\n",
    "print(\"elements:\\n\",elements)\n",
    "positions = np.where(elements == np.max(elements))\n",
    "print(\"max positions:\",positions)"
   ]
  },
  {
   "cell_type": "markdown",
   "metadata": {},
   "source": [
    "<font color=red>\n",
    "    removing maximum value\n",
    "    </font>"
   ]
  },
  {
   "cell_type": "code",
   "execution_count": 85,
   "metadata": {
    "ExecuteTime": {
     "end_time": "2019-04-02T17:28:23.665387Z",
     "start_time": "2019-04-02T17:28:23.654580Z"
    }
   },
   "outputs": [
    {
     "name": "stdout",
     "output_type": "stream",
     "text": [
      "elements max removed:\n",
      " [[3.09265068 0.24748037 1.23600736 0.43043515 0.36915672 1.48714039\n",
      "  0.03102327 4.56703355 0.39297087 4.80461931 2.51892385 4.34419464\n",
      "  1.43949118 0.20898355 0.14946449 0.44642594 1.20820145 3.54251287\n",
      "  4.10975802 1.66738867 4.54469243 3.67516313 0.88837843 1.92142455\n",
      "  3.37027816 3.13793362 0.09346232 3.99766977 0.87226918 0.\n",
      "  1.76408973 0.38054981 4.45204574 1.03069868 2.271678   0.91876141\n",
      "  2.0346868  4.06249967 3.57388571 4.29915274 2.51200679 3.33059718\n",
      "  0.05398966 3.80073915 0.49759294 4.56829935 4.48285308 3.91826456\n",
      "  0.10644052 4.08950116 0.06807881 4.88639965 4.68756993 3.88353328\n",
      "  2.46877186 3.87392558 3.04566346 4.74039403 3.38769029 1.37683596\n",
      "  2.19318266 4.93109943 1.05579622 4.78201807 2.06103883 2.54239423\n",
      "  4.67789342 4.06067377 0.58137221 3.17955543 1.94077559 4.51434092\n",
      "  0.49543652 4.12130815 2.11114899 4.4434679  3.76330672 1.06524574\n",
      "  1.5543962  4.26276505 3.98967992 3.29314271 4.71306695 4.21306964\n",
      "  2.24617634 0.4297751  2.36450143 2.80464736 1.0727527  4.74218157\n",
      "  2.91790283 0.38819789 2.40703769 0.18919308 1.12391521 0.02238897\n",
      "  3.53908771 1.38556226 4.01156052 3.32434569]]\n"
     ]
    }
   ],
   "source": [
    "elements[positions] = 0\n",
    "print(\"elements max removed:\\n\",elements)"
   ]
  },
  {
   "cell_type": "code",
   "execution_count": null,
   "metadata": {
    "collapsed": true,
    "jupyter": {
     "outputs_hidden": true
    }
   },
   "outputs": [],
   "source": []
  }
 ],
 "metadata": {
  "kernelspec": {
   "display_name": "Python 3",
   "language": "python",
   "name": "python3"
  },
  "language_info": {
   "codemirror_mode": {
    "name": "ipython",
    "version": 3
   },
   "file_extension": ".py",
   "mimetype": "text/x-python",
   "name": "python",
   "nbconvert_exporter": "python",
   "pygments_lexer": "ipython3",
   "version": "3.7.3"
  }
 },
 "nbformat": 4,
 "nbformat_minor": 4
}
