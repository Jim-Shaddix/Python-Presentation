{
 "cells": [
  {
   "cell_type": "markdown",
   "metadata": {},
   "source": [
    "# 01 Markdown"
   ]
  },
  {
   "cell_type": "markdown",
   "metadata": {},
   "source": [
    "## Cells\n",
    "* Cells in Jupyter Lab, Work the same as they do in Jupyter Notebooks\n",
    "* We can change the type associated with each cell using the bar above."
   ]
  },
  {
   "cell_type": "markdown",
   "metadata": {},
   "source": [
    "\n",
    "**Types of Cells**:\n",
    "1. Markdown: supports `Markdown`, `LaTeX Math`, `HTML`\n",
    "2. Code: python code\n",
    "3. Raw: used for rendering cells a little differently (don't worry about it)\n",
    "\n",
    "Let's take a look at how Markdown works ...\n",
    "\n",
    "---"
   ]
  },
  {
   "cell_type": "markdown",
   "metadata": {},
   "source": [
    "## Markdown (Examples)"
   ]
  },
  {
   "cell_type": "markdown",
   "metadata": {},
   "source": [
    "# Header 1\n",
    "## Header 2\n",
    "### Header 3\n",
    "#### Header 4\n",
    "##### Header 5\n",
    "###### Header 6"
   ]
  },
  {
   "cell_type": "markdown",
   "metadata": {},
   "source": [
    "**bold** and *italic*"
   ]
  },
  {
   "cell_type": "markdown",
   "metadata": {},
   "source": [
    "#### Creating Lists:\n",
    "\n",
    "1. one\n",
    "2. two \n",
    "3. three \n",
    "4. four\n",
    "\n",
    "* A\n",
    "* B\n",
    "* C\n",
    "* D\n",
    "\n",
    "1. A\n",
    "    * A-1\n",
    "    * A-2\n",
    "2. B\n",
    "    * B-1\n",
    "3. C\n",
    "    * C-1"
   ]
  },
  {
   "cell_type": "markdown",
   "metadata": {},
   "source": [
    "#### LaTeX\n",
    "inline math $\\int x^{2} = \\frac{x^{3}}{3}$\n",
    "\n",
    "middle math: \n",
    "$$\\sum_{i=1}^{n}i = \\frac{n*(n+1)}{2}$$"
   ]
  },
  {
   "cell_type": "markdown",
   "metadata": {},
   "source": [
    "#### Tables\n",
    "| Frequency (hz) | Temperature (K) | Mass (kg) |\n",
    "|----------------|-----------------|-----------|\n",
    "| 1200           | 12              | 10.3      |\n",
    "| 2400           | 64              | 20.4      |\n"
   ]
  },
  {
   "cell_type": "markdown",
   "metadata": {},
   "source": [
    "[Link to Table Generator](https://www.tablesgenerator.com/markdown_tables)"
   ]
  },
  {
   "cell_type": "markdown",
   "metadata": {},
   "source": [
    "we can include images!!!!\n",
    "![someLabel](my_figure.png)"
   ]
  },
  {
   "cell_type": "code",
   "execution_count": null,
   "metadata": {},
   "outputs": [],
   "source": []
  }
 ],
 "metadata": {
  "kernelspec": {
   "display_name": "Python 3",
   "language": "python",
   "name": "python3"
  },
  "language_info": {
   "codemirror_mode": {
    "name": "ipython",
    "version": 3
   },
   "file_extension": ".py",
   "mimetype": "text/x-python",
   "name": "python",
   "nbconvert_exporter": "python",
   "pygments_lexer": "ipython3",
   "version": "3.7.3"
  }
 },
 "nbformat": 4,
 "nbformat_minor": 4
}
